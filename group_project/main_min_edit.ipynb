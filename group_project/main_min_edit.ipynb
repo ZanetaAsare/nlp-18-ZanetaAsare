{
 "cells": [
  {
   "cell_type": "code",
   "execution_count": 15,
   "metadata": {},
   "outputs": [],
   "source": [
    "import re;\n",
    "import math;\n",
    "\n",
    "categories = []\n",
    "normal = []\n",
    "counts = []\n",
    "vocab = set()\n",
    "\n",
    "topic_list = []\n",
    "answer_list = []\n",
    "quest_list = []\n",
    "\n",
    "'''This function normalizes the string passed by removing spaces, numbering, tabs,\n",
    "newline characters, punctuation marks etc'''\n",
    "\n",
    "def trimmer(s):\n",
    "    top = s.strip('\\n');\n",
    "    result = ''.join([i for i in top if not i.isdigit()])\n",
    "    fin = result.replace(\".\", \"\", 1).strip('\\t')\n",
    "    fin = fin.lower()\n",
    "    fin = re.sub(r'[^\\w\\s]','',fin)\n",
    "    return fin\n",
    "\n",
    "\n",
    "\n",
    "def bags(quest_file, top_file, answer_file):\n",
    "    dict = {}\n",
    "    with open(quest_file) as questions:\n",
    "        quests = questions.readlines()\n",
    "        quests = quests[:-5] \n",
    "        for a in quests:\n",
    "            quest_list.append(trimmer(a)) \n",
    "        \n",
    "        \n",
    "    with open(top_file) as topics:\n",
    "        tops = topics.readlines();\n",
    "        for a in tops: \n",
    "            topic_list.append((trimmer(a))) \n",
    "        \n",
    "    with open(answer_file) as answers:\n",
    "        answer = answers.readlines();\n",
    "        for a in answer:  \n",
    "            answer_list.append((trimmer(a))) \n",
    "\n",
    "         \n",
    " \n",
    "bags(\"Questions.txt\", \"Topics.txt\", \"Answers.txt\")"
   ]
  },
  {
   "cell_type": "code",
   "execution_count": null,
   "metadata": {},
   "outputs": [],
   "source": []
  }
 ],
 "metadata": {
  "kernelspec": {
   "display_name": "Python 3",
   "language": "python",
   "name": "python3"
  },
  "language_info": {
   "codemirror_mode": {
    "name": "ipython",
    "version": 3
   },
   "file_extension": ".py",
   "mimetype": "text/x-python",
   "name": "python",
   "nbconvert_exporter": "python",
   "pygments_lexer": "ipython3",
   "version": "3.6.5"
  }
 },
 "nbformat": 4,
 "nbformat_minor": 2
}
