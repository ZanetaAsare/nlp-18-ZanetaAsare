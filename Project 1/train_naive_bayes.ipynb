{
 "cells": [
  {
   "cell_type": "code",
   "execution_count": 33,
   "metadata": {},
   "outputs": [],
   "source": [
    "amazon = open(\"amazon_cells_labelled.txt\",\"r\")\n",
    "yelp = open(\"yelp_labelled.txt\",\"r\")\n",
    "imdb = open(\"imdb_labelled.txt\",\"r\")"
   ]
  },
  {
   "cell_type": "code",
   "execution_count": 35,
   "metadata": {},
   "outputs": [],
   "source": [
    "amazon.close()\n",
    "yelp.close()\n",
    "imdb.close()"
   ]
  },
  {
   "cell_type": "code",
   "execution_count": 34,
   "metadata": {},
   "outputs": [
    {
     "name": "stdout",
     "output_type": "stream",
     "text": [
      "['So there is no way for me to plug it in here in the US unless I go by a converter.\\t0\\n']\n",
      "['Good case, Excellent value.\\t1\\n']\n",
      "['Great for the jawbone.\\t1\\n']\n",
      "['Tied to charger for conversations lasting more than 45 minutes.MAJOR PROBLEMS!!\\t0\\n']\n",
      "['The mic is great.\\t1\\n']\n",
      "['I have to jiggle the plug to get it to line up right to get decent volume.\\t0\\n']\n",
      "['If you have several dozen or several hundred contacts, then imagine the fun of sending each of them one by one.\\t0\\n']\n",
      "['If you are Razr owner...you must have this!\\t1\\n']\n",
      "['Needless to say, I wasted my money.\\t0\\n']\n",
      "['What a waste of money and time!.\\t0\\n']\n"
     ]
    }
   ],
   "source": [
    "for i in range(10):\n",
    "    am_read = amazon.readlines(1)\n",
    "    print(am_read)\n"
   ]
  },
  {
   "cell_type": "code",
   "execution_count": null,
   "metadata": {},
   "outputs": [],
   "source": []
  },
  {
   "cell_type": "code",
   "execution_count": null,
   "metadata": {},
   "outputs": [],
   "source": []
  }
 ],
 "metadata": {
  "kernelspec": {
   "display_name": "Python 3",
   "language": "python",
   "name": "python3"
  },
  "language_info": {
   "codemirror_mode": {
    "name": "ipython",
    "version": 3
   },
   "file_extension": ".py",
   "mimetype": "text/x-python",
   "name": "python",
   "nbconvert_exporter": "python",
   "pygments_lexer": "ipython3",
   "version": "3.6.5"
  }
 },
 "nbformat": 4,
 "nbformat_minor": 2
}
