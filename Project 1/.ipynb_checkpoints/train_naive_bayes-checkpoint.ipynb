{
 "cells": [
  {
   "cell_type": "code",
   "execution_count": 10,
   "metadata": {},
   "outputs": [],
   "source": [
    "amazon = open(\"amazon_cells_labelled.txt\",\"r\")\n",
    "yelp = open(\"yelp_labelled.txt\",\"r\")\n",
    "imdb = open(\"imdb_labelled.txt\",\"r\")"
   ]
  },
  {
   "cell_type": "code",
   "execution_count": 18,
   "metadata": {},
   "outputs": [
    {
     "name": "stdout",
     "output_type": "stream",
     "text": [
      "['If you have several dozen or several hundred contacts, then imagine the fun of sending each of them one by one.\\t0\\n']\n",
      "['If you are Razr owner...you must have this!\\t1\\n']\n",
      "['Needless to say, I wasted my money.\\t0\\n']\n",
      "['What a waste of money and time!.\\t0\\n']\n",
      "['And the sound quality is great.\\t1\\n']\n",
      "['He was very impressed when going from the original battery to the extended battery.\\t1\\n']\n",
      "['If the two were seperated by a mere 5+ ft I started to notice excessive static and garbled sound from the headset.\\t0\\n']\n",
      "['Very good quality though\\t1\\n']\n",
      "['The design is very odd, as the ear \"clip\" is not very comfortable at all.\\t0\\n']\n",
      "['Highly recommend for any one who has a blue tooth phone.\\t1\\n']\n"
     ]
    }
   ],
   "source": [
    "amazon.close()\n",
    "for i in range(10):\n",
    "    am_read = amazon.readlines(1)\n",
    "    print(am_read)\n"
   ]
  },
  {
   "cell_type": "code",
   "execution_count": null,
   "metadata": {},
   "outputs": [],
   "source": []
  }
 ],
 "metadata": {
  "kernelspec": {
   "display_name": "Python 3",
   "language": "python",
   "name": "python3"
  },
  "language_info": {
   "codemirror_mode": {
    "name": "ipython",
    "version": 3
   },
   "file_extension": ".py",
   "mimetype": "text/x-python",
   "name": "python",
   "nbconvert_exporter": "python",
   "pygments_lexer": "ipython3",
   "version": "3.6.5"
  }
 },
 "nbformat": 4,
 "nbformat_minor": 2
}
