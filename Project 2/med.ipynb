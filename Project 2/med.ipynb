{
 "cells": [
  {
   "cell_type": "code",
   "execution_count": null,
   "metadata": {},
   "outputs": [],
   "source": [
    "def med(source,target):\n",
    "    \n",
    "    n = len(source)\n",
    "    m = len(target)\n",
    "    edit = 0\n",
    "    \n",
    "    s_list = list(source)         #splitting the string into a list of characters\n",
    "    t_list = list(target)\n",
    "    \n",
    "    d = [0] * (n+1)             #creating the rows\n",
    "    \n",
    "    for i in range(n+1):  \n",
    "        d[i] = [0] * (m+1)      #creating the columns\n",
    "        \n",
    "    d[0][0] = 0\n",
    "    \n",
    "    for i in range(1,n+1):            #calculating the values for the first row, ie. from empty string to n characters\n",
    "        d[i][0] = d[i-1][0] + 1\n",
    "        \n",
    "    \n",
    "    for j in range(1,m+1):       #calculating values for the first column, ie. from empty string to m characters\n",
    "        d[0][j] = d[0][j-1] + 1\n",
    "        \n",
    "    \n",
    "    for i in range(1,n+1):\n",
    "        for j in range(1,m+1):    #an iteration through each position in the matrix\n",
    "            \n",
    "            if s_list[i-1] == t_list[j-1]:      #comparing characters to see if they are equal or not to find the cost of substitution\n",
    "                edit = 0\n",
    "            else:\n",
    "                edit = 2      \n",
    "            \n",
    "            d[i][j] = min(d[i-1][j]+1,d[i-1][j-1]+edit,d[i][j-1]+1)      #finding the minimum amongst the three computations\n",
    "            \n",
    "            \n",
    "    \n",
    "    dis = d[n][m]\n",
    "    \n",
    "    print(\"Minimum edit distance between\",source,\"and\",target,\"is\" ,dis)\n",
    "\n",
    "    \n"
   ]
  },
  {
   "cell_type": "code",
   "execution_count": null,
   "metadata": {},
   "outputs": [],
   "source": []
  }
 ],
 "metadata": {
  "kernelspec": {
   "display_name": "Python 3",
   "language": "python",
   "name": "python3"
  },
  "language_info": {
   "codemirror_mode": {
    "name": "ipython",
    "version": 3
   },
   "file_extension": ".py",
   "mimetype": "text/x-python",
   "name": "python",
   "nbconvert_exporter": "python",
   "pygments_lexer": "ipython3",
   "version": "3.6.5"
  }
 },
 "nbformat": 4,
 "nbformat_minor": 2
}
